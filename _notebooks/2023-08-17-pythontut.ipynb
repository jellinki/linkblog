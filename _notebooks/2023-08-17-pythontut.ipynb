{
 "cells": [
  {
   "attachments": {},
   "cell_type": "markdown",
   "metadata": {},
   "source": [
    "---\n",
    "- title: Jupyter Notebook\n",
    "- subtitle: Katelyn Gelle\n",
    "- cover-img: /assets/img/swordplaylink.gif\n",
    "- thumbnail-img: /assets/img/heartlink.jpg\n",
    "- share-img: /assets/img/heartlink.jpg\n",
    "- gh-repo: jellinki/jellyblog\n",
    "- gh-badge: [star, fork, follow]\n",
    "- courses: { csp: {week: 1} }\n",
    "- tags: [test]\n",
    "- comments: true\n",
    "---"
   ]
  },
  {
   "attachments": {},
   "cell_type": "markdown",
   "metadata": {},
   "source": [
    "## Python Tutorial\n",
    "\n",
    "So, what is Python?  \n",
    "Python is a programming language that can be used to build websites, automate tasks, and conduct data analysis. It has a simplistic appearance, which makes it easier to learn and understand; as such, many beginners start off with \"Python\" in order to learn the basics of code. Its variety of possible purposes also make it a versatile language in the coding world!  \n",
    "\n",
    "Let's start off with a Python kernel below:"
   ]
  },
  {
   "cell_type": "code",
   "execution_count": null,
   "metadata": {},
   "outputs": [],
   "source": [
    "print(\"hello world\")"
   ]
  },
  {
   "attachments": {},
   "cell_type": "markdown",
   "metadata": {},
   "source": [
    "Look, that was pretty fun! Let's see what else we can do with Python:"
   ]
  },
  {
   "cell_type": "code",
   "execution_count": null,
   "metadata": {},
   "outputs": [],
   "source": [
    "import random\n",
    "n = random.randrange(1,10)\n",
    "guess = int(input(\"guess a number: \"))\n",
    "while n!= guess:\n",
    "    if guess < n:\n",
    "        print(\"oops, too low!\")\n",
    "        guess = int(input(\"try again: \"))\n",
    "    elif guess > n:\n",
    "        print(\"oh no, too high!\")\n",
    "        guess = int(input(\"try again: \"))\n",
    "    else:\n",
    "      break\n",
    "print(\"great job, you got it!\")"
   ]
  },
  {
   "attachments": {},
   "cell_type": "markdown",
   "metadata": {},
   "source": [
    "Okay, above, this is a short program that is a sort of guessing-game. The player can guess one of the computer's randomly generated numbers from 1 to 10. The program relies heavily on conditional statements such as \"if\", \"elif\", and \"else\". The \"if\" function poses a question to the computer to which it can reply with a response; these responses can be further developed through \"else\" (an outcome besides \"if\") \"elif\" (a secondary outcome besides else). In this particular program, if the player guesses a number that is too low, the \"if\" statement allows the computer to tell the player the guess is too low a value and prompts them to try again. The \"elif\" statement allows the computer to tell the player the guess is too high a value and prompts them to try again. Lastly, if the player guesses \"else\"--a number that is neither too low nor too high, in other words the perfect and correct number--the computer will tell the player that they are correct and commend them.  \n",
    "\n",
    "Let's try another example, this time a little more complex:"
   ]
  },
  {
   "cell_type": "code",
   "execution_count": null,
   "metadata": {},
   "outputs": [],
   "source": [
    "import random\n",
    "\n",
    "class Character:\n",
    "    def __init__(self, name, health, attack, defense):\n",
    "        self.name = name\n",
    "        self.health = health\n",
    "        self.attack = attack\n",
    "        self.defense = defense\n",
    "\n",
    "    def take_damage(self, damage):\n",
    "        actual_damage = max(5, damage - self.defense)\n",
    "        self.health -= actual_damage\n",
    "        print(f\"{self.name} takes {actual_damage} damage!\")\n",
    "\n",
    "    def is_alive(self):\n",
    "        return self.health > 0\n",
    "    \n",
    "    def is_dead(enemy):\n",
    "        enemy.health <= 0\n",
    "\n",
    "def main():\n",
    "    enemy_templates = [\n",
    "        (\"orc\", 50, 10, 5),\n",
    "        (\"thief\", 60, 20, 30),\n",
    "        (\"troll\", 70, 8, 8),\n",
    "        (\"jelly\", 30, 10, 4),\n",
    "        (\"hellhound\", 150, 30, 10),\n",
    "        (\"demon\", 100, 35, 5),\n",
    "        (\"serpent\", 35, 10, 2),\n",
    "        (\"wolf\", 50, 10, 5),\n",
    "        (\"skeleton\", 40, 10, 1),\n",
    "        (\"zombie\", 50, 15, 20),\n",
    "        (\"lich\", 150, 30, 50),\n",
    "        (\"doppelganger\", 100, 15, 10),\n",
    "        (\"barbarian\", 100, 40, 15)\n",
    "    ]\n",
    "\n",
    "    while True:  # this makes me replay :)\n",
    "        player = Character(\"hero\", health=100, attack=15, defense=10)\n",
    "        enemy_template = random.choice(enemy_templates)  # random enemy template\n",
    "        enemy = Character(*enemy_template)  # create new enemy instance LFGGG\n",
    "\n",
    "        print(\"welcome to bad angband!\")\n",
    "        print(f\"whoa, you encounter a {enemy.name}!\")\n",
    "\n",
    "        player_turns = 0  # player can track turns!\n",
    "\n",
    "        while player.is_alive() and enemy.is_alive():\n",
    "            player_turns += 1  # increment player turns counter!!!\n",
    "\n",
    "            # can we heal every five turns????!!!! and MAGIC EVERY SEVEN????\n",
    "            if player_turns % 5 == 0:\n",
    "                heal_option = input(\"your healing potion has replenished. heal now? (yes/no): \").lower()\n",
    "                if heal_option == \"yes\":\n",
    "                    player.health = min(player.health + 25, 100)  # ensure health doesn't exceed 100\n",
    "                    print(\"a green aura washes through your system... you feel rejuvenated!\")\n",
    "\n",
    "            if player_turns % 7 == 0:\n",
    "                magic_option = input(\"your mana has replenished. use magical attack? (yes/no): \").lower()\n",
    "                if magic_option == \"yes\":\n",
    "                    magical_damage = 25\n",
    "                    enemy.health -= magical_damage\n",
    "                    print(\"blue energy floods through your body... power blasts your enemy!\")\n",
    "                    print(f\"critical hit! the {enemy.name} takes 25 damage!\")\n",
    "\n",
    "            action = input(\"attack, run, or cry? \").lower()\n",
    "            if action == \"attack\":\n",
    "                player_attack = random.randint(1, player.attack)\n",
    "                enemy_attack = random.randint(1, enemy.attack)\n",
    "\n",
    "                enemy.take_damage(player_attack)\n",
    "                player.take_damage(enemy_attack)\n",
    "            elif action == \"run\":\n",
    "                print(\"you run away!\")\n",
    "                break\n",
    "            elif action == \"cry\":\n",
    "                enemy_attack = random.randint(1, enemy.attack)\n",
    "                player.take_damage(enemy_attack)\n",
    "            else:\n",
    "                print(\"oops, can't do that! type 'attack', 'run', or 'cry'.\")\n",
    "\n",
    "            print(f\"your health: {player.health}\")\n",
    "            print(f\"enemy health: {enemy.health}\")\n",
    "\n",
    "        if player.is_alive():\n",
    "            print(f\"congratulations! you defeated the {enemy.name}!\")\n",
    "\n",
    "        elif enemy.is_dead():\n",
    "            print(f\"congratulations! you have defeated the {enemy.name}!\")\n",
    "        else:\n",
    "            print(\"you were defeated. womp womp!\")\n",
    "\n",
    "        replay = input(\"wanna play again? (yes/no): \").lower()\n",
    "        if replay != \"yes\":\n",
    "            print(\"thanks for playing! farest thee well, adventurer! :D\")\n",
    "            break\n",
    "\n",
    "if __name__ == \"__main__\":\n",
    "    main()"
   ]
  },
  {
   "cell_type": "markdown",
   "metadata": {},
   "source": [
    "This one is a work-in-progress that I call Bad Angband; it's a far more simplistic version of the text-based RPG Angband, a game based off of the lore from *The Lord of the Rings*. Here, players can encounter various monsters of different levels of health, attack, and defense, and can resort to melee attacks, mana restoration, and magical attacks in order to defeat their adversaries. However, I'm working on the magical damage; for some reason, it won't autokill the enemy once they're at 25 hitpoints. It isn't much of an obstacle, as the player can simply take them down the next turn with a basic melee attack, but it's still inconvenient. I'll find a way around it soon, though! :D"
   ]
  },
  {
   "cell_type": "code",
   "execution_count": null,
   "metadata": {},
   "outputs": [],
   "source": [
    "print(\"Link says 'you're doing great!'. Just kidding, he doesn't speak.\")"
   ]
  },
  {
   "cell_type": "markdown",
   "metadata": {},
   "source": [
    "![Heart Link](/assets/img/heartlink.jpg \"Hyah!\"){: .mx-auto.d-block :}"
   ]
  }
 ],
 "metadata": {
  "kernelspec": {
   "display_name": "base",
   "language": "python",
   "name": "python3"
  },
  "language_info": {
   "codemirror_mode": {
    "name": "ipython",
    "version": 3
   },
   "file_extension": ".py",
   "mimetype": "text/x-python",
   "name": "python",
   "nbconvert_exporter": "python",
   "pygments_lexer": "ipython3",
   "version": "3.9.12"
  },
  "orig_nbformat": 4
 },
 "nbformat": 4,
 "nbformat_minor": 2
}
