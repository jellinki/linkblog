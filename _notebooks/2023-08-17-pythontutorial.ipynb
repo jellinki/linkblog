{
 "cells": [
  {
   "attachments": {},
   "cell_type": "markdown",
   "metadata": {},
   "source": [
    "---\n",
    "toc: true\n",
    "comments: true\n",
    "layout: post\n",
    "title: Jupyter Notebook\n",
    "cover-img: /images/swordplaylink.gif\n",
    "description: Python Tutorial.\n",
    "courses: { csse: {week: 1} }\n",
    "type: hacks\n",
    "---"
   ]
  },
  {
   "attachments": {},
   "cell_type": "markdown",
   "metadata": {},
   "source": [
    "## Python Tutorial\n",
    "\n",
    "So, what is Python?  \n",
    "Python is a programming language that can be used to build websites, automate tasks, and conduct data analysis. It has a simplistic appearance, which makes it easier to learn and understand; as such, many beginners start off with \"Python\" in order to learn the basics of code. Its variety of possible purposes also make it a versatile language in the coding world!  \n",
    "\n",
    "Let's start off with a Python kernel below:\n"
   ]
  },
  {
   "cell_type": "code",
   "execution_count": 1,
   "metadata": {},
   "outputs": [
    {
     "name": "stdout",
     "output_type": "stream",
     "text": [
      "hello world\n"
     ]
    }
   ],
   "source": [
    "print(\"hello world\")"
   ]
  },
  {
   "attachments": {},
   "cell_type": "markdown",
   "metadata": {},
   "source": [
    "Look, that was pretty fun! Let's see what else we can do with Python:"
   ]
  },
  {
   "cell_type": "code",
   "execution_count": 3,
   "metadata": {},
   "outputs": [
    {
     "name": "stdout",
     "output_type": "stream",
     "text": [
      "oh no, too high!\n",
      "oh no, too high!\n",
      "oh no, too high!\n",
      "oops, too low!\n",
      "great job, you got it!\n"
     ]
    }
   ],
   "source": [
    "import random\n",
    "n = random.randrange(1,10)\n",
    "guess = int(input(\"guess a number: \"))\n",
    "while n!= guess:\n",
    "    if guess < n:\n",
    "        print(\"oops, too low!\")\n",
    "        guess = int(input(\"try again: \"))\n",
    "    elif guess > n:\n",
    "        print(\"oh no, too high!\")\n",
    "        guess = int(input(\"try again: \"))\n",
    "    else:\n",
    "      break\n",
    "print(\"great job, you got it!\")"
   ]
  },
  {
   "cell_type": "markdown",
   "metadata": {},
   "source": [
    "Okay, above, this is a short program that is a sort of guessing-game. The player can guess one of the computer's randomly generated numbers from 1 to 10. The program relies heavily on conditional statements such as \"if\", \"elif\", and \"else\". The \"if\" function poses a question to the computer to which it can reply with a response; these responses can be further developed through \"else\" (an outcome besides \"if\") \"elif\" (a secondary outcome besides else). In this particular program, if the player guesses a number that is too low, the \"if\" statement allows the computer to tell the player the guess is too low a value and prompts them to try again. The \"elif\" statement allows the computer to tell the player the guess is too high a value and prompts them to try again. Lastly, if the player guesses \"else\"--a number that is neither too low nor too high, in other words the perfect and correct number--the computer will tell the player that they are correct and commend them."
   ]
  },
  {
   "cell_type": "code",
   "execution_count": 4,
   "metadata": {},
   "outputs": [
    {
     "name": "stdout",
     "output_type": "stream",
     "text": [
      "Link says 'you're doing great!'. Just kidding, he doesn't speak.\n"
     ]
    }
   ],
   "source": [
    "print(\"Link says 'you're doing great!'. Just kidding, he doesn't speak.\")"
   ]
  },
  {
   "cell_type": "markdown",
   "metadata": {},
   "source": [
    "<div style=\"text-align: center; margin-top: 20px; margin-bottom: 20px;\">\n",
    "  <img src=\"{{site.baseurl}}/images/heartlink.jpg\" alt=\"Link!\" />\n",
    "</div>"
   ]
  }
 ],
 "metadata": {
  "kernelspec": {
   "display_name": "base",
   "language": "python",
   "name": "python3"
  },
  "language_info": {
   "codemirror_mode": {
    "name": "ipython",
    "version": 3
   },
   "file_extension": ".py",
   "mimetype": "text/x-python",
   "name": "python",
   "nbconvert_exporter": "python",
   "pygments_lexer": "ipython3",
   "version": "3.11.4"
  },
  "orig_nbformat": 4
 },
 "nbformat": 4,
 "nbformat_minor": 2
}
