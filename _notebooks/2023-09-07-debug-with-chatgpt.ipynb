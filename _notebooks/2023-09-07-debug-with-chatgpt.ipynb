{
 "cells": [
  {
   "attachments": {},
   "cell_type": "markdown",
   "metadata": {},
   "source": [
    "---\n",
    "toc: true\n",
    "comments: true\n",
    "layout: post\n",
    "title: Debugging with ChatGPT\n",
    "cover-img: /images/swordplaylink.gif\n",
    "description: A compilation of instances where I debugged using ChatGPT.\n",
    "courses: { csse: {week: 3} }\n",
    "type: hacks\n",
    "---"
   ]
  },
  {
   "attachments": {},
   "cell_type": "markdown",
   "metadata": {},
   "source": [
    "## Debugging with ChatGPT  \n",
    "\n",
    "Alright, I've decided to make a page showing how and what I debug with ChatGPT. This is basically another blog post that details all of these instances!  "
   ]
  },
  {
   "cell_type": "markdown",
   "metadata": {},
   "source": [
    "## 09.07.2023  \n",
    "\n",
    "My goal for today was to figure out how to load a proper gif on my page. I already had the code to load an image, so I tried the same thing but using the path to the gif file, and it worked! However, the image was not centered and was directly below my text, which didn't look right. So, I copied and pasted my code, as seen below:"
   ]
  },
  {
   "cell_type": "markdown",
   "metadata": {},
   "source": [
    "```\n",
    "![Swordplay Link]({{site.baseurl}}/images/swordplaylink.gif \"Hup!\"){: .mx-auto.d-block :}\n",
    "```"
   ]
  },
  {
   "cell_type": "markdown",
   "metadata": {},
   "source": [
    "with a prompt: \"how to center this gif\". ChatGPT gave me something in HTML, which I didn't want, so I specified that it had to be \"in markdown\". This was ChatGPT's response:"
   ]
  },
  {
   "cell_type": "markdown",
   "metadata": {},
   "source": [
    "```\n",
    "<div style=\"display: flex; justify-content: center; align-items: center; height: 100vh;\">\n",
    "  <img src=\"{{site.baseurl}}/images/swordplaylink.gif\" alt=\"Swordplay Link\" />\n",
    "</div>\n",
    "```"
   ]
  },
  {
   "cell_type": "markdown",
   "metadata": {},
   "source": [
    "Cool! I changed my code into this and ran it. Now it was centered, but with one problem; there was now a pretty big gap in between the text and the gif! I realized this was due to the \"height: 100vh\" portion, so I removed it, but now I wasn't quite sure what to do. So, I asked ChatGPT: \"it is centered, but why is there a gigantic gap in between the blog and the gif\", as well as a full paste of my \"Week 3\" page so it knew exactly what was going on. It then sent me this:"
   ]
  },
  {
   "cell_type": "markdown",
   "metadata": {},
   "source": [
    "```\n",
    "<div style=\"text-align: center; margin-top: 20px;\">\n",
    "  <img src=\"{{site.baseurl}}/images/swordplaylink.gif\" alt=\"Swordplay Link\" />\n",
    "</div>\n",
    "```"
   ]
  },
  {
   "cell_type": "markdown",
   "metadata": {},
   "source": [
    "Nice! I also noticed that it was missing a similar gap in the bottom, so I added a \"margin-bottom: 20px\" part. Done!"
   ]
  },
  {
   "cell_type": "markdown",
   "metadata": {},
   "source": [
    "## 09.18.2023  \n",
    "\n",
    "Today, I was trying to fix a bug with my Grade Input Calculator code because the delete buttons wouldn't work properly after I added colors. After I copied and pasted my code, ChatGPT told me that I had an error in my \"deleteInputLine\" function that needed to be corrected. It now allowed for the input element, label, and line break elements to be removed once the \"Delete\" button was hit, but now the Delete button would stay there even after the entry was deleted! To resolve this, I said: \"delete button works because it deletes the cell, but the delete button remains for cells that were already deleted\".  \n",
    "\n",
    "ChatGPT then responded by modifying my \"deleteInputLine\" function to also include the Delete button itself to erase upon deletion, with the finalized section of my code below:"
   ]
  },
  {
   "cell_type": "code",
   "execution_count": null,
   "metadata": {},
   "outputs": [],
   "source": [
    "// Deletes an input line\n",
    "function deleteInputLine(index) {\n",
    "    var scoreElement = document.getElementById(index);\n",
    "    var labelElement = document.querySelector('label[for=\"' + index + '\"]');\n",
    "    var brElement = document.querySelector('br[for=\"' + index + '\"]');\n",
    "    var deleteButton = document.querySelector('button[for=\"' + index + '\"]'); // Add this line\n",
    "\n",
    "    if (scoreElement) {\n",
    "        scoreElement.remove();\n",
    "    }\n",
    "\n",
    "    if (labelElement) {\n",
    "        labelElement.remove();\n",
    "    }\n",
    "\n",
    "    if (brElement) {\n",
    "        brElement.remove();\n",
    "    }\n",
    "\n",
    "    if (deleteButton) { // Add this conditional\n",
    "        deleteButton.remove();\n",
    "    }\n",
    "\n",
    "    // Decrement the current index\n",
    "    currentIndex--;\n",
    "\n",
    "    // Reassign IDs to remaining input elements\n",
    "    for (var i = index; i < currentIndex; i++) {\n",
    "        var nextIndex = i + 1;\n",
    "        document.getElementById(nextIndex).id = i;\n",
    "        document.querySelector('label[for=\"' + nextIndex + '\"]').htmlFor = i;\n",
    "        document.querySelector('br[for=\"' + nextIndex + '\"]').setAttribute('for', i);\n",
    "        document.querySelector('button[for=\"' + nextIndex + '\"]').setAttribute('for', i); // Add this line\n",
    "    }\n",
    "\n",
    "    calculator({ key: \"Tab\" }); // Recalculate totals\n",
    "}"
   ]
  },
  {
   "cell_type": "markdown",
   "metadata": {},
   "source": [
    "And now it works! Awesome! :D"
   ]
  }
 ],
 "metadata": {
  "kernelspec": {
   "display_name": "base",
   "language": "python",
   "name": "python3"
  },
  "language_info": {
   "codemirror_mode": {
    "name": "ipython",
    "version": 3
   },
   "file_extension": ".py",
   "mimetype": "text/x-python",
   "name": "python",
   "nbconvert_exporter": "python",
   "pygments_lexer": "ipython3",
   "version": "3.11.4"
  },
  "orig_nbformat": 4
 },
 "nbformat": 4,
 "nbformat_minor": 2
}
