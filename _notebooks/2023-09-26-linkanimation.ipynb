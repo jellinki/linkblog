{
 "cells": [
  {
   "cell_type": "markdown",
   "metadata": {},
   "source": [
    "---\n",
    "toc: true\n",
    "comments: true\n",
    "layout: post\n",
    "title: Link Animation Draft\n",
    "cover-img: /images/swordplaylink.gif\n",
    "description: I'm just trying to animate Link!\n",
    "courses: { csse: {week: 6} }\n",
    "type: hacks\n",
    "---"
   ]
  },
  {
   "cell_type": "code",
   "execution_count": 4,
   "metadata": {
    "vscode": {
     "languageId": "html"
    }
   },
   "outputs": [
    {
     "ename": "SyntaxError",
     "evalue": "invalid decimal literal (1530075376.py, line 7)",
     "output_type": "error",
     "traceback": [
      "\u001b[1;36m  Cell \u001b[1;32mIn[4], line 7\u001b[1;36m\u001b[0m\n\u001b[1;33m    width: 200px; /* Adjust the width to make it smaller */\u001b[0m\n\u001b[1;37m             ^\u001b[0m\n\u001b[1;31mSyntaxError\u001b[0m\u001b[1;31m:\u001b[0m invalid decimal literal\n"
     ]
    }
   ],
   "source": [
    "<!DOCTYPE html>\n",
    "<html>\n",
    "<head>\n",
    "    <style>\n",
    "        /* Style for the image */\n",
    "        #HeartLink {\n",
    "            width: 200px; /* Adjust the width to make it smaller */\n",
    "            position: relative;\n",
    "            animation: moveLeftRight 2s linear infinite; /* Animation settings */\n",
    "        }\n",
    "\n",
    "        /* Keyframes for the animation */\n",
    "        @keyframes moveLeftRight {\n",
    "            0% {\n",
    "                left: 0;\n",
    "            }\n",
    "            50% {\n",
    "                left: 100px; /* Adjust the distance it moves */\n",
    "            }\n",
    "            100% {\n",
    "                left: 0;\n",
    "            }\n",
    "        }\n",
    "    </style>\n",
    "</head>\n",
    "<body>\n",
    "    <img src=\"{{site.baseurl}}/images/clearheartlink.png\" alt=\"Heart Link\" id=\"HeartLink\">\n",
    "    <script src=\"script.js\"></script>\n",
    "</body>\n",
    "</html>"
   ]
  }
 ],
 "metadata": {
  "kernelspec": {
   "display_name": "Python 3",
   "language": "python",
   "name": "python3"
  },
  "language_info": {
   "codemirror_mode": {
    "name": "ipython",
    "version": 3
   },
   "file_extension": ".py",
   "mimetype": "text/x-python",
   "name": "python",
   "nbconvert_exporter": "python",
   "pygments_lexer": "ipython3",
   "version": "3.11.4"
  },
  "orig_nbformat": 4
 },
 "nbformat": 4,
 "nbformat_minor": 2
}
