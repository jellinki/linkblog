{
 "cells": [
  {
   "cell_type": "markdown",
   "metadata": {},
   "source": [
    "---\n",
    "toc: true\n",
    "comments: true\n",
    "layout: post\n",
    "title: Link Animation Draft\n",
    "cover-img: /images/swordplaylink.gif\n",
    "description: I'm just trying to animate Link!\n",
    "courses: { csse: {week: 6} }\n",
    "type: hacks\n",
    "---"
   ]
  },
  {
   "cell_type": "code",
   "execution_count": 7,
   "metadata": {},
   "outputs": [
    {
     "name": "stdout",
     "output_type": "stream",
     "text": [
      "Requirement already satisfied: pygame in c:\\users\\katel\\appdata\\local\\programs\\python\\python311\\lib\\site-packages (2.5.2)\n",
      "Note: you may need to restart the kernel to use updated packages.\n"
     ]
    },
    {
     "name": "stderr",
     "output_type": "stream",
     "text": [
      "\n",
      "[notice] A new release of pip is available: 23.1.2 -> 23.2.1\n",
      "[notice] To update, run: python.exe -m pip install --upgrade pip\n"
     ]
    }
   ],
   "source": [
    "pip install pygame"
   ]
  },
  {
   "cell_type": "code",
   "execution_count": 8,
   "metadata": {},
   "outputs": [
    {
     "ename": "SystemExit",
     "evalue": "",
     "output_type": "error",
     "traceback": [
      "An exception has occurred, use %tb to see the full traceback.\n",
      "\u001b[1;31mSystemExit\u001b[0m\n"
     ]
    }
   ],
   "source": [
    "import pygame\n",
    "import sys\n",
    "\n",
    "# Initialize Pygame\n",
    "pygame.init()\n",
    "\n",
    "# Set up screen dimensions\n",
    "screen_width = 800\n",
    "screen_height = 400\n",
    "screen = pygame.display.set_mode((screen_width, screen_height))\n",
    "\n",
    "# Define the light blue color for the background (R, G, B)\n",
    "light_blue = (173, 216, 230)  # This is a common light blue color\n",
    "\n",
    "# Load the image\n",
    "image = pygame.image.load(\"C:/Users/katel/OneDrive/kvscode/new blog/linkblog/images/clearheartlink.png\")\n",
    "\n",
    "# Adjust the image size (make it slightly larger)\n",
    "new_width = 180  # Adjust the new width for a slightly larger image\n",
    "new_height = int(image.get_height() * (new_width / image.get_width()))\n",
    "image = pygame.transform.scale(image, (new_width, new_height))\n",
    "\n",
    "# Initial position\n",
    "x = 0\n",
    "y = (screen_height - image.get_height()) / 2\n",
    "\n",
    "# Velocity (slower horizontal movement)\n",
    "velocity = 0.5  # Adjust the value for slower movement\n",
    "\n",
    "# Main game loop\n",
    "running = True\n",
    "while running:\n",
    "    for event in pygame.event.get():\n",
    "        if event.type == pygame.QUIT:\n",
    "            running = False\n",
    "\n",
    "    # Set the background color\n",
    "    screen.fill(light_blue)\n",
    "\n",
    "    # Update the position\n",
    "    x += velocity\n",
    "\n",
    "    # If the image reaches the right edge, reset its position\n",
    "    if x >= screen_width:\n",
    "        x = 0\n",
    "\n",
    "    # Draw the image on the screen\n",
    "    screen.blit(image, (x, y))\n",
    "\n",
    "    pygame.display.flip()\n",
    "\n",
    "# Quit Pygame\n",
    "pygame.quit()\n",
    "sys.exit()"
   ]
  }
 ],
 "metadata": {
  "kernelspec": {
   "display_name": "Python 3",
   "language": "python",
   "name": "python3"
  },
  "language_info": {
   "codemirror_mode": {
    "name": "ipython",
    "version": 3
   },
   "file_extension": ".py",
   "mimetype": "text/x-python",
   "name": "python",
   "nbconvert_exporter": "python",
   "pygments_lexer": "ipython3",
   "version": "3.11.4"
  },
  "orig_nbformat": 4
 },
 "nbformat": 4,
 "nbformat_minor": 2
}
