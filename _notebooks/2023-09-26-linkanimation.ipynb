{
 "cells": [
  {
   "cell_type": "markdown",
   "metadata": {},
   "source": [
    "---\n",
    "toc: true\n",
    "comments: true\n",
    "layout: post\n",
    "title: Link Animation Draft\n",
    "cover-img: /images/swordplaylink.gif\n",
    "description: I'm just trying to animate Link!\n",
    "courses: { csse: {week: 6} }\n",
    "type: hacks\n",
    "---"
   ]
  },
  {
   "cell_type": "markdown",
   "metadata": {},
   "source": [
    "<!DOCTYPE html>\n",
    "<html lang=\"en\">\n",
    "<head>\n",
    "    <meta charset=\"UTF-8\">\n",
    "    <meta name=\"viewport\" content=\"width=device-width, initial-scale=1.0\">\n",
    "    <title>Link Animation</title>\n",
    "    <link rel=\"stylesheet\" href=\"styles.css\">\n",
    "</head>\n",
    "<body>\n",
    "    <img src=\"{{site.baseurl}}/images/clearheartlink.png\" alt=\"Heart Link\" id=\"Heart Link\">\n",
    "    <script src=\"script.js\"></script>\n",
    "</body>\n",
    "</html>"
   ]
  },
  {
   "cell_type": "markdown",
   "metadata": {},
   "source": [
    "<style>\n",
    "#animatedImage {\n",
    "    position: absolute;\n",
    "    top: 0;\n",
    "    left: 0;\n",
    "    width: 100px; /* Adjust as needed */\n",
    "    height: 100px; /* Adjust as needed */\n",
    "}\n",
    "</style>"
   ]
  },
  {
   "cell_type": "code",
   "execution_count": null,
   "metadata": {
    "vscode": {
     "languageId": "javascript"
    }
   },
   "outputs": [],
   "source": [
    "const animatedImage = document.getElementById(\"animatedImage\");\n",
    "\n",
    "let positionX = 0;\n",
    "let speedX = 2; // Adjust the speed as needed\n",
    "\n",
    "function animateImage() {\n",
    "    // Update the position of the image\n",
    "    positionX += speedX;\n",
    "    \n",
    "    // Apply the new position to the image\n",
    "    animatedImage.style.left = `${positionX}px`;\n",
    "\n",
    "    // Check if the image has reached the end of the screen\n",
    "    if (positionX > window.innerWidth) {\n",
    "        // Reset the position when it goes off-screen\n",
    "        positionX = -animatedImage.width;\n",
    "    }\n",
    "\n",
    "    // Request the next frame\n",
    "    requestAnimationFrame(animateImage);\n",
    "}\n",
    "\n",
    "// Start the animation\n",
    "animateImage();\n"
   ]
  }
 ],
 "metadata": {
  "language_info": {
   "name": "python"
  },
  "orig_nbformat": 4
 },
 "nbformat": 4,
 "nbformat_minor": 2
}
