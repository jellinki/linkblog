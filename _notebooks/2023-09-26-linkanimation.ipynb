{
 "cells": [
  {
   "cell_type": "markdown",
   "metadata": {},
   "source": [
    "---\n",
    "toc: true\n",
    "comments: true\n",
    "layout: post\n",
    "title: Link Animation Draft\n",
    "cover-img: /images/swordplaylink.gif\n",
    "description: I'm just trying to animate Link!\n",
    "courses: { csse: {week: 6} }\n",
    "type: hacks\n",
    "---"
   ]
  },
  {
   "cell_type": "code",
   "execution_count": null,
   "metadata": {
    "vscode": {
     "languageId": "html"
    }
   },
   "outputs": [],
   "source": [
    "<!DOCTYPE html>\n",
    "<html>\n",
    "<head>\n",
    "    <style>\n",
    "        /* Style for the image */\n",
    "        #HeartLink {\n",
    "            width: 200px; /* Adjust the width to make it smaller */\n",
    "            position: relative;\n",
    "            animation: moveLeftRight 2s linear infinite; /* Animation settings */\n",
    "        }\n",
    "\n",
    "        /* Keyframes for the animation */\n",
    "        @keyframes moveLeftRight {\n",
    "            0% {\n",
    "                left: 0;\n",
    "            }\n",
    "            50% {\n",
    "                left: 100px; /* Adjust the distance it moves */\n",
    "            }\n",
    "            100% {\n",
    "                left: 0;\n",
    "            }\n",
    "        }\n",
    "    </style>\n",
    "</head>\n",
    "<body>\n",
    "    <img src=\"{{site.baseurl}}/images/clearheartlink.png\" alt=\"Heart Link\" id=\"HeartLink\">\n",
    "    <script>\n",
    "        // JavaScript code for animation\n",
    "        var heartLink = document.getElementById(\"HeartLink\");\n",
    "        var position = 0; // Initial position\n",
    "\n",
    "        function moveLeftRight() {\n",
    "            if (position === 0) {\n",
    "                position = 100; // Move right\n",
    "            } else {\n",
    "                position = 0; // Move left\n",
    "            }\n",
    "            heartLink.style.left = position + \"px\";\n",
    "            requestAnimationFrame(moveLeftRight);\n",
    "        }\n",
    "\n",
    "        // Start the animation\n",
    "        moveLeftRight();\n",
    "    </script>\n",
    "</body>\n",
    "</html>\n",
    "    "
   ]
  }
 ],
 "metadata": {
  "kernelspec": {
   "display_name": "Python 3",
   "language": "python",
   "name": "python3"
  },
  "language_info": {
   "codemirror_mode": {
    "name": "ipython",
    "version": 3
   },
   "file_extension": ".py",
   "mimetype": "text/x-python",
   "name": "python",
   "nbconvert_exporter": "python",
   "pygments_lexer": "ipython3",
   "version": "3.11.4"
  },
  "orig_nbformat": 4
 },
 "nbformat": 4,
 "nbformat_minor": 2
}
