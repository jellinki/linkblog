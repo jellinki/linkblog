{
 "cells": [
  {
   "cell_type": "markdown",
   "metadata": {},
   "source": [
    "---\n",
    "toc: true\n",
    "comments: false\n",
    "layout: post\n",
    "title: Link Animation Final\n",
    "cover-img: /images/swordplaylink.gif\n",
    "description: My Link animation(s)!\n",
    "courses: { csse: {week: 6} }\n",
    "type: hacks\n",
    "---"
   ]
  },
  {
   "cell_type": "markdown",
   "metadata": {},
   "source": [
    "<!DOCTYPE html>\n",
    "<html lang=\"en\">\n",
    "<head>\n",
    "    <meta charset=\"UTF-8\">\n",
    "    <meta name=\"viewport\" content=\"width=device-width, initial-scale=1.0\">\n",
    "    <title>Link Animation</title>\n",
    "    <style>\n",
    "        .sprite {\n",
    "            height: 128px;\n",
    "            width: 96px;\n",
    "            background-image: url('link_sprite_sheet_by_tiozacdasgalaxias_dayh0s6-pre.png');\n",
    "            background-repeat: no-repeat;\n",
    "            position: absolute;\n",
    "        }\n",
    "\n",
    "        #link {\n",
    "            background-position: 0 0;\n",
    "        }\n",
    "    </style>\n",
    "</head>\n",
    "<body>\n",
    "    <p id=\"link\" class=\"sprite\"></p>\n",
    "\n",
    "    <script>\n",
    "        const link = document.getElementById(\"link\");\n",
    "        let frame = 0;\n",
    "        const frames = 4; // Number of frames in the sprite sheet\n",
    "        const frameWidth = 96; // Width of each frame in pixels\n",
    "        const animationSpeed = 200; // Milliseconds per frame\n",
    "\n",
    "        function animateLink() {\n",
    "            const xPos = -frame * frameWidth; // Calculate the X position for the current frame\n",
    "            link.style.backgroundPosition = `${xPos}px 0`;\n",
    "\n",
    "            frame = (frame + 1) % frames; // Advance to the next frame\n",
    "\n",
    "            setTimeout(animateLink, animationSpeed); // Repeat the animation\n",
    "        }\n",
    "\n",
    "        // Start the animation\n",
    "        animateLink();\n",
    "    </script>\n",
    "</body>\n",
    "</html>\n"
   ]
  }
 ],
 "metadata": {
  "language_info": {
   "name": "python"
  },
  "orig_nbformat": 4
 },
 "nbformat": 4,
 "nbformat_minor": 2
}
