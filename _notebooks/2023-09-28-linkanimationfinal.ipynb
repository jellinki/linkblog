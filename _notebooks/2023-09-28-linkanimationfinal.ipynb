{
 "cells": [
  {
   "cell_type": "markdown",
   "metadata": {},
   "source": [
    "---\n",
    "toc: true\n",
    "comments: false\n",
    "layout: post\n",
    "title: Link Animation Final\n",
    "cover-img: /images/swordplaylink.gif\n",
    "description: My Link animation(s)!\n",
    "courses: { csse: {week: 6} }\n",
    "type: hacks\n",
    "---"
   ]
  },
  {
   "cell_type": "markdown",
   "metadata": {},
   "source": [
    "<!DOCTYPE html>\n",
    "<html lang=\"en\">\n",
    "<head>\n",
    "    <meta charset=\"UTF-8\">\n",
    "    <meta name=\"viewport\" content=\"width=device-width, initial-scale=1.0\">\n",
    "    <title>Link Animation</title>\n",
    "    <style>\n",
    "        .sprite {\n",
    "            height: 96px; /* Adjusted height to fit the sprite */\n",
    "            width: 64px; /* Adjusted width to fit the sprite */\n",
    "            background-image: url('link_sprite_sheet_by_tiozacdasgalaxias_dayh0s6-pre.png');\n",
    "            background-repeat: no-repeat;\n",
    "            position: absolute;\n",
    "        }\n",
    "\n",
    "        #link {\n",
    "            background-position: 0 0;\n",
    "        }\n",
    "    </style>\n",
    "</head>\n",
    "<body>\n",
    "    <p id=\"link\" class=\"sprite\"></p>\n",
    "\n",
    "    <script>\n",
    "        const link = document.getElementById(\"link\");\n",
    "        let frame = 0;\n",
    "        const frames = 8; // Number of frames in the sprite sheet\n",
    "        const frameWidth = 64; // Adjusted width of each frame in pixels\n",
    "        const animationSpeed = 400; // Milliseconds per frame (slower animation)\n",
    "        let forward = true; // Direction of animation\n",
    "\n",
    "        function animateLink() {\n",
    "            const xPos = -frame * frameWidth; // Calculate the X position for the current frame\n",
    "            link.style.backgroundPosition = `${xPos}px 0`;\n",
    "\n",
    "            if (frame === frames - 1 && forward) {\n",
    "                forward = false; // Reverse the animation direction at the end\n",
    "            } else if (frame === 0 && !forward) {\n",
    "                forward = true; // Start forward animation again at the beginning\n",
    "            }\n",
    "\n",
    "            if (forward) {\n",
    "                frame++;\n",
    "            } else {\n",
    "                frame--;\n",
    "            }\n",
    "\n",
    "            requestAnimationFrame(animateLink); // Use requestAnimationFrame for smoother animation\n",
    "        }\n",
    "\n",
    "        // Start the animation\n",
    "        animateLink();\n",
    "    </script>\n",
    "</body>\n",
    "</html>"
   ]
  }
 ],
 "metadata": {
  "language_info": {
   "name": "python"
  },
  "orig_nbformat": 4
 },
 "nbformat": 4,
 "nbformat_minor": 2
}
